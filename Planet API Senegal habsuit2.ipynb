{
 "cells": [
  {
   "cell_type": "code",
   "execution_count": 4,
   "metadata": {},
   "outputs": [],
   "source": [
    "import os\n",
    "import json\n",
    "import pathlib\n",
    "import time\n",
    "\n",
    "import requests\n",
    "from requests.auth import HTTPBasicAuth\n",
    "from helper import planet_auth"
   ]
  },
  {
   "cell_type": "code",
   "execution_count": 5,
   "metadata": {},
   "outputs": [],
   "source": [
    "# Setup the API Key from the `PL_API_KEY` environment variable\n",
    "PLANET_API_KEY = planet_auth()"
   ]
  },
  {
   "cell_type": "code",
   "execution_count": 6,
   "metadata": {},
   "outputs": [],
   "source": [
    "# Setup Planet Data API base URL\n",
    "URL = \"https://api.planet.com/data/v1\"\n",
    "\n",
    "# Setup the session\n",
    "session = requests.Session()\n",
    "\n",
    "# Authenticate\n",
    "session.auth = (PLANET_API_KEY, \"\")"
   ]
  },
  {
   "cell_type": "code",
   "execution_count": 7,
   "metadata": {},
   "outputs": [],
   "source": [
    "# Helper function to printformatted JSON using the json module\n",
    "def p(data):\n",
    "    print(json.dumps(data, indent=2))"
   ]
  },
  {
   "cell_type": "code",
   "execution_count": 8,
   "metadata": {},
   "outputs": [],
   "source": [
    "# Make a GET request to the Planet Data API\n",
    "res = session.get(URL)"
   ]
  },
  {
   "cell_type": "code",
   "execution_count": 20,
   "metadata": {},
   "outputs": [
    {
     "data": {
      "text/plain": [
       "200"
      ]
     },
     "execution_count": 20,
     "metadata": {},
     "output_type": "execute_result"
    }
   ],
   "source": [
    "# Response status code\n",
    "res.status_code"
   ]
  },
  {
   "cell_type": "code",
   "execution_count": 151,
   "metadata": {},
   "outputs": [],
   "source": [
    "## long geometry filter following (collapse/uncollapse by double clicking to the left of the cell)"
   ]
  },
  {
   "cell_type": "code",
   "execution_count": 26,
   "metadata": {},
   "outputs": [],
   "source": [
    "geom =  {\n",
    "  \"type\": \"Polygon\",\n",
    "  \"coordinates\":  [\n",
    "          [\n",
    "            [\n",
    "              -16.337415533922837,\n",
    "              16.29831977936631\n",
    "            ],\n",
    "            [\n",
    "              -16.337415533922837,\n",
    "              16.27268392173528\n",
    "            ],\n",
    "            [\n",
    "              -16.28457599804048,\n",
    "              16.27268392173528\n",
    "            ],\n",
    "            [\n",
    "              -16.28457599804048,\n",
    "              16.29831977936631\n",
    "            ],\n",
    "            [\n",
    "              -16.337415533922837,\n",
    "              16.29831977936631\n",
    "            ]\n",
    "          ]\n",
    "        ]\n",
    "      }\n",
    "\n",
    "# Setup Geometry Filter\n",
    "geometry_filter = {\n",
    "    \"type\": \"GeometryFilter\",\n",
    "    \"field_name\": \"geometry\",\n",
    "    \"config\": geom\n",
    "}"
   ]
  },
  {
   "cell_type": "code",
   "execution_count": 27,
   "metadata": {},
   "outputs": [],
   "source": [
    "# Create filter object for all imagery captured during the 2nd - 7th of May 2018\n",
    "date_filter = {\n",
    "    \"type\": \"DateRangeFilter\", # Type of filter -> Date Range\n",
    "    \"field_name\": \"acquired\", # The field to filter on: \"acquired\" -> Date on which the \"image was taken\"\n",
    "    \"config\": {\n",
    "        \"gte\": \"2019-05-01T00:00:00.000Z\",\n",
    "        \"lte\": \"2019-05-30T00:00:00.000Z\"\n",
    "    }\n",
    "}"
   ]
  },
  {
   "cell_type": "code",
   "execution_count": 31,
   "metadata": {},
   "outputs": [],
   "source": [
    "# only get images which have <50% cloud coverage\n",
    "cloud_cover_filter = {\n",
    "  \"type\": \"RangeFilter\",\n",
    "  \"field_name\": \"cloud_cover\",\n",
    "  \"config\": {\n",
    "    \"lte\": 0.5\n",
    "  }\n",
    "}\n"
   ]
  },
  {
   "cell_type": "code",
   "execution_count": 34,
   "metadata": {},
   "outputs": [],
   "source": [
    "# Setup an \"AND\" logical filter\n",
    "combined_filter = {\n",
    "    \"type\": \"AndFilter\",\n",
    "    \"config\": [geometry_filter, date_filter,cloud_cover_filter]\n",
    "}\n",
    "\n",
    "# Print the logical filter\n",
    "#p(and_filter)"
   ]
  },
  {
   "cell_type": "code",
   "execution_count": 35,
   "metadata": {},
   "outputs": [],
   "source": [
    "# this large search filter produces all PlanetScope imagery for the 1st -30th of May, 2019 in the lower basin of the Senegal River\n",
    "\n",
    "item_type = \"PSScene\"\n",
    "\n",
    "# API request object\n",
    "search_request = {\n",
    "  \"item_types\": [item_type], \n",
    "  \"filter\": combined_filter\n",
    "}\n",
    "\n",
    "# Anida_2019May_1to30 = {\n",
    "#   \"name\": \"Anida_2019May_1to30\",\n",
    "#   \"item_types\": \"PSScene\",\n",
    "#   \"product_bundle\": \"analytic_udm2\",\n",
    "#   \"filter\": and_filter\n",
    "# }"
   ]
  },
  {
   "cell_type": "code",
   "execution_count": 36,
   "metadata": {},
   "outputs": [
    {
     "name": "stdout",
     "output_type": "stream",
     "text": [
      "{'_links': {'_self': 'https://api.planet.com/data/v1/item-types/PSScene/items/20190529_111516_101f', 'assets': 'https://api.planet.com/data/v1/item-types/PSScene/items/20190529_111516_101f/assets/', 'thumbnail': 'https://tiles.planet.com/data/v1/item-types/PSScene/items/20190529_111516_101f/thumb'}, '_permissions': ['assets.basic_analytic_4b:download', 'assets.basic_analytic_4b_rpc:download', 'assets.basic_analytic_4b_xml:download', 'assets.basic_udm2:download', 'assets.ortho_analytic_3b:download', 'assets.ortho_analytic_3b_xml:download', 'assets.ortho_analytic_4b:download', 'assets.ortho_analytic_4b_sr:download', 'assets.ortho_analytic_4b_xml:download', 'assets.ortho_udm2:download', 'assets.ortho_visual:download'], 'assets': ['basic_analytic_4b', 'basic_analytic_4b_rpc', 'basic_analytic_4b_xml', 'basic_udm2', 'ortho_analytic_3b', 'ortho_analytic_3b_xml', 'ortho_analytic_4b', 'ortho_analytic_4b_sr', 'ortho_analytic_4b_xml', 'ortho_udm2', 'ortho_visual'], 'geometry': {'coordinates': [[[-16.47048658039967, 16.363575993408414], [-16.485642568441776, 16.291362858862282], [-16.252784355507565, 16.246401556785912], [-16.237874277891372, 16.319004739307285], [-16.47048658039967, 16.363575993408414]]], 'type': 'Polygon'}, 'id': '20190529_111516_101f', 'properties': {'acquired': '2019-05-29T11:15:16.253113Z', 'anomalous_pixels': 0, 'clear_confidence_percent': 91, 'clear_percent': 100, 'cloud_cover': 0, 'cloud_percent': 0, 'ground_control': True, 'gsd': 3.8, 'heavy_haze_percent': 0, 'instrument': 'PS2', 'item_type': 'PSScene', 'light_haze_percent': 0, 'pixel_resolution': 3, 'provider': 'planetscope', 'published': '2021-03-04T13:46:34Z', 'publishing_stage': 'finalized', 'quality_category': 'standard', 'satellite_azimuth': 276.6, 'satellite_id': '101f', 'shadow_percent': 0, 'snow_ice_percent': 0, 'strip_id': '2401807', 'sun_azimuth': 74.1, 'sun_elevation': 63.8, 'updated': '2021-03-04T13:46:34Z', 'view_angle': 4, 'visible_confidence_percent': 91, 'visible_percent': 100}, 'type': 'Feature'}\n"
     ]
    }
   ],
   "source": [
    "# fire off the POST request\n",
    "search_result = \\\n",
    "  requests.post(\n",
    "    'https://api.planet.com/data/v1/quick-search',\n",
    "    auth=HTTPBasicAuth(PLANET_API_KEY, ''),\n",
    "    json=search_request)\n",
    "\n",
    "geojson = search_result.json()\n",
    "\n",
    "# let's look at the first result\n",
    "print(list(geojson.items())[1][1][0])"
   ]
  },
  {
   "cell_type": "code",
   "execution_count": 38,
   "metadata": {},
   "outputs": [
    {
     "data": {
      "text/plain": [
       "31"
      ]
     },
     "execution_count": 38,
     "metadata": {},
     "output_type": "execute_result"
    }
   ],
   "source": [
    "# extract image IDs only\n",
    "image_ids = [feature['id'] for feature in geojson['features']]\n",
    "print(image_ids)"
   ]
  },
  {
   "cell_type": "markdown",
   "metadata": {},
   "source": [
    "# Place Order\n"
   ]
  },
  {
   "cell_type": "code",
   "execution_count": 48,
   "metadata": {},
   "outputs": [],
   "source": [
    "orders_url = 'https://api.planet.com/compute/ops/orders/v2'"
   ]
  },
  {
   "cell_type": "code",
   "execution_count": 49,
   "metadata": {},
   "outputs": [],
   "source": [
    "\n",
    "# set content type to json\n",
    "headers = {'content-type': 'application/json'}\n"
   ]
  },
  {
   "cell_type": "code",
   "execution_count": 50,
   "metadata": {},
   "outputs": [],
   "source": [
    "\n",
    "request = {  \n",
    "   \"name\":\"simple order\",\n",
    "   \"products\":[\n",
    "      {  \n",
    "         \"item_ids\":image_ids,\n",
    "         \"item_type\":\"PSScene\",\n",
    "         \"product_bundle\":\"analytic_udm2\"\n",
    "      }\n",
    "   ],\n",
    "}\n"
   ]
  },
  {
   "cell_type": "code",
   "execution_count": 51,
   "metadata": {},
   "outputs": [],
   "source": [
    "def place_order(request, auth):\n",
    "    response = requests.post(orders_url, data=json.dumps(request), auth=auth, headers=headers)\n",
    "    print(response)\n",
    "    order_id = response.json()['id']\n",
    "    print(order_id)\n",
    "    order_url = orders_url + '/' + order_id\n",
    "    return order_url\n"
   ]
  },
  {
   "cell_type": "code",
   "execution_count": 52,
   "metadata": {},
   "outputs": [
    {
     "name": "stdout",
     "output_type": "stream",
     "text": [
      "<Response [202]>\n",
      "bef1b41a-1af2-4710-a5f0-5e3da1568222\n"
     ]
    }
   ],
   "source": [
    "order_url = place_order(request, session.auth)"
   ]
  },
  {
   "cell_type": "code",
   "execution_count": 53,
   "metadata": {},
   "outputs": [
    {
     "name": "stdout",
     "output_type": "stream",
     "text": [
      "running\n",
      "running\n",
      "running\n",
      "running\n",
      "running\n",
      "running\n",
      "running\n",
      "running\n",
      "running\n",
      "running\n",
      "running\n",
      "running\n",
      "running\n",
      "running\n",
      "running\n",
      "running\n",
      "running\n",
      "running\n",
      "running\n",
      "running\n",
      "running\n",
      "running\n",
      "running\n",
      "running\n",
      "running\n",
      "running\n",
      "running\n",
      "running\n",
      "running\n",
      "running\n"
     ]
    }
   ],
   "source": [
    "def poll_for_success(order_url, auth, num_loops=30):\n",
    "    count = 0\n",
    "    while(count < num_loops):\n",
    "        count += 1\n",
    "        r = requests.get(order_url, auth=session.auth)\n",
    "        response = r.json()\n",
    "        state = response['state']\n",
    "        print(state)\n",
    "        end_states = ['success', 'failed', 'partial']\n",
    "        if state in end_states:\n",
    "            break\n",
    "        time.sleep(10)\n",
    "        \n",
    "poll_for_success(order_url, session.auth)"
   ]
  },
  {
   "cell_type": "code",
   "execution_count": 54,
   "metadata": {},
   "outputs": [],
   "source": [
    "r = requests.get(order_url, auth=session.auth)\n",
    "response = r.json()\n",
    "results = response['_links']['results']"
   ]
  },
  {
   "cell_type": "code",
   "execution_count": 55,
   "metadata": {},
   "outputs": [
    {
     "data": {
      "text/plain": [
       "['bef1b41a-1af2-4710-a5f0-5e3da1568222/PSScene/20190504_104716_1054_3B_udm2.tif',\n",
       " 'bef1b41a-1af2-4710-a5f0-5e3da1568222/PSScene/20190504_104716_1054_3B_AnalyticMS_metadata.xml',\n",
       " 'bef1b41a-1af2-4710-a5f0-5e3da1568222/PSScene/20190504_104716_1054_3B_AnalyticMS.tif',\n",
       " 'bef1b41a-1af2-4710-a5f0-5e3da1568222/PSScene/20190504_104716_1054_metadata.json',\n",
       " 'bef1b41a-1af2-4710-a5f0-5e3da1568222/PSScene/20190504_104717_1054_3B_udm2.tif',\n",
       " 'bef1b41a-1af2-4710-a5f0-5e3da1568222/PSScene/20190504_104717_1054_3B_AnalyticMS_metadata.xml',\n",
       " 'bef1b41a-1af2-4710-a5f0-5e3da1568222/PSScene/20190504_104717_1054_3B_AnalyticMS.tif',\n",
       " 'bef1b41a-1af2-4710-a5f0-5e3da1568222/PSScene/20190504_104717_1054_metadata.json',\n",
       " 'bef1b41a-1af2-4710-a5f0-5e3da1568222/PSScene/20190525_111258_103d_3B_udm2.tif',\n",
       " 'bef1b41a-1af2-4710-a5f0-5e3da1568222/PSScene/20190525_111258_103d_3B_AnalyticMS_metadata.xml',\n",
       " 'bef1b41a-1af2-4710-a5f0-5e3da1568222/PSScene/20190525_111258_103d_3B_AnalyticMS.tif',\n",
       " 'bef1b41a-1af2-4710-a5f0-5e3da1568222/PSScene/20190525_111258_103d_metadata.json',\n",
       " 'bef1b41a-1af2-4710-a5f0-5e3da1568222/PSScene/20190510_111239_1034_3B_udm2.tif',\n",
       " 'bef1b41a-1af2-4710-a5f0-5e3da1568222/PSScene/20190510_111239_1034_3B_AnalyticMS_metadata.xml',\n",
       " 'bef1b41a-1af2-4710-a5f0-5e3da1568222/PSScene/20190510_111239_1034_3B_AnalyticMS.tif',\n",
       " 'bef1b41a-1af2-4710-a5f0-5e3da1568222/PSScene/20190510_111239_1034_metadata.json',\n",
       " 'bef1b41a-1af2-4710-a5f0-5e3da1568222/PSScene/20190521_104632_0f2a_3B_udm2.tif',\n",
       " 'bef1b41a-1af2-4710-a5f0-5e3da1568222/PSScene/20190521_104632_0f2a_3B_AnalyticMS_metadata.xml',\n",
       " 'bef1b41a-1af2-4710-a5f0-5e3da1568222/PSScene/20190521_104632_0f2a_3B_AnalyticMS.tif',\n",
       " 'bef1b41a-1af2-4710-a5f0-5e3da1568222/PSScene/20190521_104632_0f2a_metadata.json',\n",
       " 'bef1b41a-1af2-4710-a5f0-5e3da1568222/PSScene/20190520_111253_1035_3B_udm2.tif',\n",
       " 'bef1b41a-1af2-4710-a5f0-5e3da1568222/PSScene/20190520_111253_1035_3B_AnalyticMS_metadata.xml',\n",
       " 'bef1b41a-1af2-4710-a5f0-5e3da1568222/PSScene/20190520_111253_1035_3B_AnalyticMS.tif',\n",
       " 'bef1b41a-1af2-4710-a5f0-5e3da1568222/PSScene/20190520_111253_1035_metadata.json',\n",
       " 'bef1b41a-1af2-4710-a5f0-5e3da1568222/PSScene/20190503_111512_0f28_3B_udm2.tif',\n",
       " 'bef1b41a-1af2-4710-a5f0-5e3da1568222/PSScene/20190503_111512_0f28_3B_AnalyticMS_metadata.xml',\n",
       " 'bef1b41a-1af2-4710-a5f0-5e3da1568222/PSScene/20190503_111512_0f28_3B_AnalyticMS.tif',\n",
       " 'bef1b41a-1af2-4710-a5f0-5e3da1568222/PSScene/20190503_111512_0f28_metadata.json',\n",
       " 'bef1b41a-1af2-4710-a5f0-5e3da1568222/PSScene/20190520_111252_1035_3B_udm2.tif',\n",
       " 'bef1b41a-1af2-4710-a5f0-5e3da1568222/PSScene/20190520_111252_1035_3B_AnalyticMS_metadata.xml',\n",
       " 'bef1b41a-1af2-4710-a5f0-5e3da1568222/PSScene/20190520_111252_1035_3B_AnalyticMS.tif',\n",
       " 'bef1b41a-1af2-4710-a5f0-5e3da1568222/PSScene/20190520_111252_1035_metadata.json',\n",
       " 'bef1b41a-1af2-4710-a5f0-5e3da1568222/PSScene/20190511_111207_101b_3B_udm2.tif',\n",
       " 'bef1b41a-1af2-4710-a5f0-5e3da1568222/PSScene/20190511_111207_101b_3B_AnalyticMS_metadata.xml',\n",
       " 'bef1b41a-1af2-4710-a5f0-5e3da1568222/PSScene/20190511_111207_101b_3B_AnalyticMS.tif',\n",
       " 'bef1b41a-1af2-4710-a5f0-5e3da1568222/PSScene/20190511_111207_101b_metadata.json',\n",
       " 'bef1b41a-1af2-4710-a5f0-5e3da1568222/PSScene/20190522_111432_1027_3B_udm2.tif',\n",
       " 'bef1b41a-1af2-4710-a5f0-5e3da1568222/PSScene/20190522_111432_1027_3B_AnalyticMS_metadata.xml',\n",
       " 'bef1b41a-1af2-4710-a5f0-5e3da1568222/PSScene/20190522_111432_1027_3B_AnalyticMS.tif',\n",
       " 'bef1b41a-1af2-4710-a5f0-5e3da1568222/PSScene/20190522_111432_1027_metadata.json',\n",
       " 'bef1b41a-1af2-4710-a5f0-5e3da1568222/PSScene/20190529_111516_101f_3B_udm2.tif',\n",
       " 'bef1b41a-1af2-4710-a5f0-5e3da1568222/PSScene/20190529_111516_101f_3B_AnalyticMS_metadata.xml',\n",
       " 'bef1b41a-1af2-4710-a5f0-5e3da1568222/PSScene/20190529_111516_101f_3B_AnalyticMS.tif',\n",
       " 'bef1b41a-1af2-4710-a5f0-5e3da1568222/PSScene/20190529_111516_101f_metadata.json',\n",
       " 'bef1b41a-1af2-4710-a5f0-5e3da1568222/PSScene/20190507_111334_103b_3B_udm2.tif',\n",
       " 'bef1b41a-1af2-4710-a5f0-5e3da1568222/PSScene/20190507_111334_103b_3B_AnalyticMS_metadata.xml',\n",
       " 'bef1b41a-1af2-4710-a5f0-5e3da1568222/PSScene/20190507_111334_103b_3B_AnalyticMS.tif',\n",
       " 'bef1b41a-1af2-4710-a5f0-5e3da1568222/PSScene/20190507_111334_103b_metadata.json',\n",
       " 'bef1b41a-1af2-4710-a5f0-5e3da1568222/PSScene/20190518_111204_1027_3B_udm2.tif',\n",
       " 'bef1b41a-1af2-4710-a5f0-5e3da1568222/PSScene/20190518_111204_1027_3B_AnalyticMS_metadata.xml',\n",
       " 'bef1b41a-1af2-4710-a5f0-5e3da1568222/PSScene/20190518_111204_1027_3B_AnalyticMS.tif',\n",
       " 'bef1b41a-1af2-4710-a5f0-5e3da1568222/PSScene/20190518_111204_1027_metadata.json',\n",
       " 'bef1b41a-1af2-4710-a5f0-5e3da1568222/PSScene/20190519_111410_103a_3B_udm2.tif',\n",
       " 'bef1b41a-1af2-4710-a5f0-5e3da1568222/PSScene/20190519_111410_103a_3B_AnalyticMS_metadata.xml',\n",
       " 'bef1b41a-1af2-4710-a5f0-5e3da1568222/PSScene/20190519_111410_103a_3B_AnalyticMS.tif',\n",
       " 'bef1b41a-1af2-4710-a5f0-5e3da1568222/PSScene/20190519_111410_103a_metadata.json',\n",
       " 'bef1b41a-1af2-4710-a5f0-5e3da1568222/PSScene/20190502_111217_1040_3B_udm2.tif',\n",
       " 'bef1b41a-1af2-4710-a5f0-5e3da1568222/PSScene/20190502_111217_1040_3B_AnalyticMS_metadata.xml',\n",
       " 'bef1b41a-1af2-4710-a5f0-5e3da1568222/PSScene/20190502_111217_1040_3B_AnalyticMS.tif',\n",
       " 'bef1b41a-1af2-4710-a5f0-5e3da1568222/PSScene/20190502_111217_1040_metadata.json',\n",
       " 'bef1b41a-1af2-4710-a5f0-5e3da1568222/PSScene/20190524_111515_1035_3B_udm2.tif',\n",
       " 'bef1b41a-1af2-4710-a5f0-5e3da1568222/PSScene/20190524_111515_1035_3B_AnalyticMS_metadata.xml',\n",
       " 'bef1b41a-1af2-4710-a5f0-5e3da1568222/PSScene/20190524_111515_1035_3B_AnalyticMS.tif',\n",
       " 'bef1b41a-1af2-4710-a5f0-5e3da1568222/PSScene/20190524_111515_1035_metadata.json',\n",
       " 'bef1b41a-1af2-4710-a5f0-5e3da1568222/PSScene/20190521_104631_0f2a_3B_udm2.tif',\n",
       " 'bef1b41a-1af2-4710-a5f0-5e3da1568222/PSScene/20190521_104631_0f2a_3B_AnalyticMS_metadata.xml',\n",
       " 'bef1b41a-1af2-4710-a5f0-5e3da1568222/PSScene/20190521_104631_0f2a_3B_AnalyticMS.tif',\n",
       " 'bef1b41a-1af2-4710-a5f0-5e3da1568222/PSScene/20190521_104631_0f2a_metadata.json',\n",
       " 'bef1b41a-1af2-4710-a5f0-5e3da1568222/PSScene/20190502_111216_1040_3B_udm2.tif',\n",
       " 'bef1b41a-1af2-4710-a5f0-5e3da1568222/PSScene/20190502_111216_1040_3B_AnalyticMS_metadata.xml',\n",
       " 'bef1b41a-1af2-4710-a5f0-5e3da1568222/PSScene/20190502_111216_1040_3B_AnalyticMS.tif',\n",
       " 'bef1b41a-1af2-4710-a5f0-5e3da1568222/PSScene/20190502_111216_1040_metadata.json',\n",
       " 'bef1b41a-1af2-4710-a5f0-5e3da1568222/PSScene/20190522_111337_1011_3B_udm2.tif',\n",
       " 'bef1b41a-1af2-4710-a5f0-5e3da1568222/PSScene/20190522_111337_1011_3B_AnalyticMS_metadata.xml',\n",
       " 'bef1b41a-1af2-4710-a5f0-5e3da1568222/PSScene/20190522_111337_1011_3B_AnalyticMS.tif',\n",
       " 'bef1b41a-1af2-4710-a5f0-5e3da1568222/PSScene/20190522_111337_1011_metadata.json',\n",
       " 'bef1b41a-1af2-4710-a5f0-5e3da1568222/PSScene/20190514_111510_1034_3B_udm2.tif',\n",
       " 'bef1b41a-1af2-4710-a5f0-5e3da1568222/PSScene/20190514_111510_1034_3B_AnalyticMS_metadata.xml',\n",
       " 'bef1b41a-1af2-4710-a5f0-5e3da1568222/PSScene/20190514_111510_1034_3B_AnalyticMS.tif',\n",
       " 'bef1b41a-1af2-4710-a5f0-5e3da1568222/PSScene/20190514_111510_1034_metadata.json',\n",
       " 'bef1b41a-1af2-4710-a5f0-5e3da1568222/PSScene/20190525_111257_103d_3B_udm2.tif',\n",
       " 'bef1b41a-1af2-4710-a5f0-5e3da1568222/PSScene/20190525_111257_103d_3B_AnalyticMS_metadata.xml',\n",
       " 'bef1b41a-1af2-4710-a5f0-5e3da1568222/PSScene/20190525_111257_103d_3B_AnalyticMS.tif',\n",
       " 'bef1b41a-1af2-4710-a5f0-5e3da1568222/PSScene/20190525_111257_103d_metadata.json',\n",
       " 'bef1b41a-1af2-4710-a5f0-5e3da1568222/PSScene/20190513_111341_103e_3B_udm2.tif',\n",
       " 'bef1b41a-1af2-4710-a5f0-5e3da1568222/PSScene/20190513_111341_103e_3B_AnalyticMS_metadata.xml',\n",
       " 'bef1b41a-1af2-4710-a5f0-5e3da1568222/PSScene/20190513_111341_103e_3B_AnalyticMS.tif',\n",
       " 'bef1b41a-1af2-4710-a5f0-5e3da1568222/PSScene/20190513_111341_103e_metadata.json',\n",
       " 'bef1b41a-1af2-4710-a5f0-5e3da1568222/PSScene/20190516_111547_1008_3B_udm2.tif',\n",
       " 'bef1b41a-1af2-4710-a5f0-5e3da1568222/PSScene/20190516_111547_1008_3B_AnalyticMS_metadata.xml',\n",
       " 'bef1b41a-1af2-4710-a5f0-5e3da1568222/PSScene/20190516_111547_1008_3B_AnalyticMS.tif',\n",
       " 'bef1b41a-1af2-4710-a5f0-5e3da1568222/PSScene/20190516_111547_1008_metadata.json',\n",
       " 'bef1b41a-1af2-4710-a5f0-5e3da1568222/PSScene/20190508_112450_46_1058_3B_udm2.tif',\n",
       " 'bef1b41a-1af2-4710-a5f0-5e3da1568222/PSScene/20190508_112450_46_1058_3B_AnalyticMS_metadata.xml',\n",
       " 'bef1b41a-1af2-4710-a5f0-5e3da1568222/PSScene/20190508_112450_46_1058_3B_AnalyticMS.tif',\n",
       " 'bef1b41a-1af2-4710-a5f0-5e3da1568222/PSScene/20190508_112450_46_1058_metadata.json',\n",
       " 'bef1b41a-1af2-4710-a5f0-5e3da1568222/PSScene/20190522_111431_1027_3B_udm2.tif',\n",
       " 'bef1b41a-1af2-4710-a5f0-5e3da1568222/PSScene/20190522_111431_1027_3B_AnalyticMS_metadata.xml',\n",
       " 'bef1b41a-1af2-4710-a5f0-5e3da1568222/PSScene/20190522_111431_1027_3B_AnalyticMS.tif',\n",
       " 'bef1b41a-1af2-4710-a5f0-5e3da1568222/PSScene/20190522_111431_1027_metadata.json',\n",
       " 'bef1b41a-1af2-4710-a5f0-5e3da1568222/PSScene/20190504_113252_06_105c_3B_udm2.tif',\n",
       " 'bef1b41a-1af2-4710-a5f0-5e3da1568222/PSScene/20190504_113252_06_105c_3B_AnalyticMS_metadata.xml',\n",
       " 'bef1b41a-1af2-4710-a5f0-5e3da1568222/PSScene/20190504_113252_06_105c_3B_AnalyticMS.tif',\n",
       " 'bef1b41a-1af2-4710-a5f0-5e3da1568222/PSScene/20190504_113252_06_105c_metadata.json',\n",
       " 'bef1b41a-1af2-4710-a5f0-5e3da1568222/PSScene/20190521_111230_1003_3B_udm2.tif',\n",
       " 'bef1b41a-1af2-4710-a5f0-5e3da1568222/PSScene/20190521_111230_1003_3B_AnalyticMS_metadata.xml',\n",
       " 'bef1b41a-1af2-4710-a5f0-5e3da1568222/PSScene/20190521_111230_1003_3B_AnalyticMS.tif',\n",
       " 'bef1b41a-1af2-4710-a5f0-5e3da1568222/PSScene/20190521_111230_1003_metadata.json',\n",
       " 'bef1b41a-1af2-4710-a5f0-5e3da1568222/PSScene/20190508_112448_39_1058_3B_udm2.tif',\n",
       " 'bef1b41a-1af2-4710-a5f0-5e3da1568222/PSScene/20190508_112448_39_1058_3B_AnalyticMS_metadata.xml',\n",
       " 'bef1b41a-1af2-4710-a5f0-5e3da1568222/PSScene/20190508_112448_39_1058_3B_AnalyticMS.tif',\n",
       " 'bef1b41a-1af2-4710-a5f0-5e3da1568222/PSScene/20190508_112448_39_1058_metadata.json',\n",
       " 'bef1b41a-1af2-4710-a5f0-5e3da1568222/PSScene/20190511_111206_101b_3B_udm2.tif',\n",
       " 'bef1b41a-1af2-4710-a5f0-5e3da1568222/PSScene/20190511_111206_101b_3B_AnalyticMS_metadata.xml',\n",
       " 'bef1b41a-1af2-4710-a5f0-5e3da1568222/PSScene/20190511_111206_101b_3B_AnalyticMS.tif',\n",
       " 'bef1b41a-1af2-4710-a5f0-5e3da1568222/PSScene/20190511_111206_101b_metadata.json',\n",
       " 'bef1b41a-1af2-4710-a5f0-5e3da1568222/PSScene/20190507_111335_103b_3B_udm2.tif',\n",
       " 'bef1b41a-1af2-4710-a5f0-5e3da1568222/PSScene/20190507_111335_103b_3B_AnalyticMS_metadata.xml',\n",
       " 'bef1b41a-1af2-4710-a5f0-5e3da1568222/PSScene/20190507_111335_103b_3B_AnalyticMS.tif',\n",
       " 'bef1b41a-1af2-4710-a5f0-5e3da1568222/PSScene/20190507_111335_103b_metadata.json',\n",
       " 'bef1b41a-1af2-4710-a5f0-5e3da1568222/PSScene/20190521_111231_1003_3B_udm2.tif',\n",
       " 'bef1b41a-1af2-4710-a5f0-5e3da1568222/PSScene/20190521_111231_1003_3B_AnalyticMS_metadata.xml',\n",
       " 'bef1b41a-1af2-4710-a5f0-5e3da1568222/PSScene/20190521_111231_1003_3B_AnalyticMS.tif',\n",
       " 'bef1b41a-1af2-4710-a5f0-5e3da1568222/PSScene/20190521_111231_1003_metadata.json',\n",
       " 'bef1b41a-1af2-4710-a5f0-5e3da1568222/manifest.json']"
      ]
     },
     "execution_count": 55,
     "metadata": {},
     "output_type": "execute_result"
    }
   ],
   "source": [
    "[r['name'] for r in results]\n"
   ]
  },
  {
   "cell_type": "code",
   "execution_count": 56,
   "metadata": {},
   "outputs": [],
   "source": [
    "def download_results(results, overwrite=False):\n",
    "    results_urls = [r['location'] for r in results]\n",
    "    results_names = [r['name'] for r in results]\n",
    "    print('{} items to download'.format(len(results_urls)))\n",
    "    \n",
    "    for url, name in zip(results_urls, results_names):\n",
    "        path = pathlib.Path(os.path.join('data', name))\n",
    "        \n",
    "        if overwrite or not path.exists():\n",
    "            print('downloading {} to {}'.format(name, path))\n",
    "            r = requests.get(url, allow_redirects=True)\n",
    "            path.parent.mkdir(parents=True, exist_ok=True)\n",
    "            open(path, 'wb').write(r.content)\n",
    "        else:\n",
    "            print('{} already exists, skipping {}'.format(path, name))"
   ]
  },
  {
   "cell_type": "code",
   "execution_count": 57,
   "metadata": {},
   "outputs": [
    {
     "data": {
      "text/plain": [
       "{'name': 'simple order',\n",
       " 'products': [{'item_ids': ['20190529_111516_101f',\n",
       "    '20190525_111258_103d',\n",
       "    '20190525_111257_103d',\n",
       "    '20190524_111515_1035',\n",
       "    '20190522_111431_1027',\n",
       "    '20190522_111432_1027',\n",
       "    '20190522_111337_1011',\n",
       "    '20190521_104632_0f2a',\n",
       "    '20190521_104631_0f2a',\n",
       "    '20190521_111231_1003',\n",
       "    '20190521_111230_1003',\n",
       "    '20190520_111253_1035',\n",
       "    '20190520_111252_1035',\n",
       "    '20190519_111410_103a',\n",
       "    '20190518_111204_1027',\n",
       "    '20190516_111547_1008',\n",
       "    '20190514_111510_1034',\n",
       "    '20190513_111341_103e',\n",
       "    '20190511_111206_101b',\n",
       "    '20190511_111207_101b',\n",
       "    '20190510_111239_1034',\n",
       "    '20190508_112448_39_1058',\n",
       "    '20190508_112450_46_1058',\n",
       "    '20190507_111335_103b',\n",
       "    '20190507_111334_103b',\n",
       "    '20190504_104717_1054',\n",
       "    '20190504_104716_1054',\n",
       "    '20190504_113252_06_105c',\n",
       "    '20190503_111512_0f28',\n",
       "    '20190502_111217_1040',\n",
       "    '20190502_111216_1040'],\n",
       "   'item_type': 'PSScene',\n",
       "   'product_bundle': 'analytic_udm2'}],\n",
       " 'delivery': {'single_archive': True, 'archive_type': 'zip'}}"
      ]
     },
     "execution_count": 57,
     "metadata": {},
     "output_type": "execute_result"
    }
   ],
   "source": [
    "zip_delivery = {\"delivery\": {\"single_archive\": True, \"archive_type\": \"zip\"}}\n",
    "request_zip = request.copy()\n",
    "request_zip.update(zip_delivery)\n",
    "request_zip"
   ]
  },
  {
   "cell_type": "code",
   "execution_count": 58,
   "metadata": {},
   "outputs": [
    {
     "name": "stdout",
     "output_type": "stream",
     "text": [
      "<Response [202]>\n",
      "169df078-8ddf-46fc-8147-81fe8e9b2371\n"
     ]
    }
   ],
   "source": [
    "order_url = place_order(request_zip, auth=session.auth)\n"
   ]
  },
  {
   "cell_type": "code",
   "execution_count": 63,
   "metadata": {},
   "outputs": [
    {
     "name": "stdout",
     "output_type": "stream",
     "text": [
      "running\n",
      "running\n",
      "running\n",
      "running\n",
      "running\n",
      "running\n",
      "running\n",
      "running\n",
      "running\n",
      "running\n",
      "running\n",
      "running\n",
      "running\n",
      "running\n",
      "running\n",
      "running\n",
      "running\n",
      "running\n",
      "running\n",
      "running\n",
      "running\n",
      "running\n",
      "running\n",
      "running\n",
      "success\n"
     ]
    }
   ],
   "source": [
    "poll_for_success(order_url, session.auth)\n"
   ]
  },
  {
   "cell_type": "code",
   "execution_count": 64,
   "metadata": {},
   "outputs": [],
   "source": [
    "r = requests.get(order_url, auth=session.auth)\n",
    "response = r.json()\n",
    "results = response['_links']['results']"
   ]
  },
  {
   "cell_type": "code",
   "execution_count": 61,
   "metadata": {},
   "outputs": [
    {
     "data": {
      "text/plain": [
       "{'_links': {'_self': 'https://api.planet.com/compute/ops/orders/v2/169df078-8ddf-46fc-8147-81fe8e9b2371'},\n",
       " 'created_on': '2024-07-06T21:06:55.384Z',\n",
       " 'delivery': {'archive_filename': 'output.zip',\n",
       "  'archive_type': 'zip',\n",
       "  'single_archive': True},\n",
       " 'error_hints': [],\n",
       " 'id': '169df078-8ddf-46fc-8147-81fe8e9b2371',\n",
       " 'last_message': 'Waiting for Zip to complete',\n",
       " 'last_modified': '2024-07-06T21:12:22.831Z',\n",
       " 'name': 'simple order',\n",
       " 'products': [{'item_ids': ['20190529_111516_101f',\n",
       "    '20190525_111258_103d',\n",
       "    '20190525_111257_103d',\n",
       "    '20190524_111515_1035',\n",
       "    '20190522_111431_1027',\n",
       "    '20190522_111432_1027',\n",
       "    '20190522_111337_1011',\n",
       "    '20190521_104632_0f2a',\n",
       "    '20190521_104631_0f2a',\n",
       "    '20190521_111231_1003',\n",
       "    '20190521_111230_1003',\n",
       "    '20190520_111253_1035',\n",
       "    '20190520_111252_1035',\n",
       "    '20190519_111410_103a',\n",
       "    '20190518_111204_1027',\n",
       "    '20190516_111547_1008',\n",
       "    '20190514_111510_1034',\n",
       "    '20190513_111341_103e',\n",
       "    '20190511_111206_101b',\n",
       "    '20190511_111207_101b',\n",
       "    '20190510_111239_1034',\n",
       "    '20190508_112448_39_1058',\n",
       "    '20190508_112450_46_1058',\n",
       "    '20190507_111335_103b',\n",
       "    '20190507_111334_103b',\n",
       "    '20190504_104717_1054',\n",
       "    '20190504_104716_1054',\n",
       "    '20190504_113252_06_105c',\n",
       "    '20190503_111512_0f28',\n",
       "    '20190502_111217_1040',\n",
       "    '20190502_111216_1040'],\n",
       "   'item_type': 'PSScene',\n",
       "   'product_bundle': 'analytic_udm2'}],\n",
       " 'state': 'running'}"
      ]
     },
     "execution_count": 61,
     "metadata": {},
     "output_type": "execute_result"
    }
   ],
   "source": [
    "response"
   ]
  },
  {
   "cell_type": "code",
   "execution_count": 65,
   "metadata": {},
   "outputs": [
    {
     "name": "stdout",
     "output_type": "stream",
     "text": [
      "2 items to download\n",
      "downloading 169df078-8ddf-46fc-8147-81fe8e9b2371/output.zip to data/169df078-8ddf-46fc-8147-81fe8e9b2371/output.zip\n",
      "downloading 169df078-8ddf-46fc-8147-81fe8e9b2371/manifest.json to data/169df078-8ddf-46fc-8147-81fe8e9b2371/manifest.json\n"
     ]
    }
   ],
   "source": [
    "download_results(results)\n"
   ]
  }
 ],
 "metadata": {
  "kernelspec": {
   "display_name": "Python 3",
   "language": "python",
   "name": "python3"
  },
  "language_info": {
   "codemirror_mode": {
    "name": "ipython",
    "version": 3
   },
   "file_extension": ".py",
   "mimetype": "text/x-python",
   "name": "python",
   "nbconvert_exporter": "python",
   "pygments_lexer": "ipython3",
   "version": "3.12.4"
  }
 },
 "nbformat": 4,
 "nbformat_minor": 4
}
